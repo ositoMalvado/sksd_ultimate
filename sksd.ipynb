{
 "cells": [
  {
   "cell_type": "markdown",
   "id": "529013c1",
   "metadata": {},
   "source": [
    "## 🐴 **Instalar entorno**\n",
    "> ☢️ Importante: ejecutar la celda **\"Borrar todo\"** antes que nada!<br>\n",
    "> ☢️ Importante: tenga a mano su API KEY de Civitai.<br>\n",
    "> 🟢 SageMaker permancerá con la instalación una vez hecha."
   ]
  },
  {
   "cell_type": "code",
   "execution_count": null,
   "id": "3574c7ad-21c7-4b83-ba0d-ae6dc50bad74",
   "metadata": {
    "tags": [],
    "vscode": {
     "languageId": "python"
    }
   },
   "outputs": [],
   "source": [
    "!curl -sLo ~/.conda/conda_install.py https://github.com/ositoMalvado/sksd_ultimate/raw/main/script/conda.py\n",
    "%run ~/.conda/conda_install.py"
   ]
  },
  {
   "cell_type": "markdown",
   "id": "76daf60a",
   "metadata": {},
   "source": [
    "## 🦀 **Instalar Stable Diffusion**\n",
    "> ☢️ Importante: ejecutar la celda **\"Instalar entorno\"** antes.<br>\n",
    "> 🟢 El WebUI que elijas permanecerá. Para cambiar el tipo, ejecutar celda **\"Eliminar WebUI\"** si ya has instalado alguna versión."
   ]
  },
  {
   "cell_type": "code",
   "execution_count": null,
   "id": "3b4990da-52c9-4728-b04a-a989215221e3",
   "metadata": {
    "tags": [],
    "vscode": {
     "languageId": "python"
    }
   },
   "outputs": [],
   "source": [
    "!curl -sLo ~/.conda/setup.py https://github.com/ositoMalvado/sksd_ultimate/raw/main/script/multi/setup.py\n",
    "%run ~/.conda/setup.py"
   ]
  },
  {
   "cell_type": "markdown",
   "id": "c5286955",
   "metadata": {},
   "source": [
    "> ### 🐋 **Descargar Extensiones/Nodos/VAEs/Embeddings**\n",
    "> ☢️ Importante: para descargar sigue la siguiente sintaxis:\n",
    "```Bash\n",
    "#Modelos\n",
    "%download url_del_modelo nombre_modelo.extension_modelo\n",
    "#Extensiones\n",
    "!git clone url_extension\n",
    "```"
   ]
  },
  {
   "cell_type": "code",
   "execution_count": null,
   "id": "598827fd-7cf0-4d73-b982-c417916b7e96",
   "metadata": {
    "tags": [],
    "vscode": {
     "languageId": "python"
    }
   },
   "outputs": [],
   "source": [
    "''' SD Extensions / ComfyUI Custom Nodes '''\n",
    "%cd -q $extensions\n",
    "!git clone URL\n",
    "\n",
    "''' VAE '''\n",
    "%cd -q $vae\n",
    "%download https://huggingface.co/NoCrypt/resources/resolve/main/VAE/any.vae.safetensors any.vae.safetensors\n",
    "\n",
    "''' Embeddings '''\n",
    "%cd -q $embeddings\n",
    "%download"
   ]
  },
  {
   "cell_type": "markdown",
   "id": "f28c6dd6",
   "metadata": {},
   "source": [
    "> ### 🐼 **Descargar Checkpoints/Loras [Permanente]**\n",
    "> 🟢 Los modelos descargados en **[Permanente]**, permanecen en SageMaker.<br>\n",
    "> ☢️ Importante: para descargar sigue la siguiente sintaxis:\n",
    "```Bash\n",
    "#Modelos\n",
    "%download url_del_modelo nombre_modelo.extension_modelo\n",
    "```"
   ]
  },
  {
   "cell_type": "code",
   "execution_count": null,
   "id": "a95d3607-519e-48ae-87e6-92e2e816dcf5",
   "metadata": {
    "vscode": {
     "languageId": "python"
    }
   },
   "outputs": [],
   "source": [
    "''' Checkpoint '''\n",
    "%cd -q $ckpt\n",
    "%download https://huggingface.co/pantat88/back_up/resolve/main/Ddmix_25D_v12_slim.safetensors\n",
    "\n",
    "''' LoRA '''\n",
    "%cd -q $lora\n",
    "%download https://civitai.com/api/download/models/87153 add_detail.safetensors\n",
    "%download https://civitai.com/api/download/models/62833 Detail_Tweaker.safetensors\n",
    "%download https://civitai.com/api/download/models/86247 flat2.safetensors"
   ]
  },
  {
   "cell_type": "markdown",
   "id": "504ee558",
   "metadata": {},
   "source": [
    "> ### 🐉 **Descargar Checkpoints/Loras [Temporal]**\n",
    "> 🟢 Los modelos descargados en **[Temporal]**, desaparecen de SageMaker al iniciarlo nuevamente.<br>\n",
    "> 🟢 Puedes descargar hasta 19Gb en modelos temporales.<br>\n",
    "> ☢️ Importante: para descargar sigue la siguiente sintaxis:\n",
    "```Bash\n",
    "#Modelos\n",
    "%download url_del_modelo nombre_modelo.extension_modelo\n",
    "```"
   ]
  },
  {
   "cell_type": "code",
   "execution_count": null,
   "id": "f8a8e5bc-ebd3-41e5-a1ca-00037a623cd5",
   "metadata": {
    "tags": [],
    "vscode": {
     "languageId": "python"
    }
   },
   "outputs": [],
   "source": [
    "''' Controlnet models '''\n",
    "%run $controlnet_models"
   ]
  },
  {
   "cell_type": "code",
   "execution_count": null,
   "id": "07448e32-6837-44db-bef3-4dd8217e538e",
   "metadata": {
    "tags": [],
    "vscode": {
     "languageId": "python"
    }
   },
   "outputs": [],
   "source": [
    "''' TMP Checkpoint '''\n",
    "%cd -q $tmp_ckpt\n",
    "%download https://civitai.com/api/download/models/357609 Juggernaut-XL_V9-RDPhoto2-Lightning_4S.safetensors\n",
    "\n",
    "''' TMP LoRA '''\n",
    "%cd -q $tmp_lora\n",
    "%download https://huggingface.co/Linaqruf/style-enhancer-xl-lora/resolve/main/style-enhancer-xl.safetensors style-enhancer-xl.safetensors\n",
    "%download https://huggingface.co/Linaqruf/anime-detailer-xl-lora/resolve/main/anime-detailer-xl.safetensors anime-detailer-xl.safetensors"
   ]
  },
  {
   "cell_type": "code",
   "execution_count": null,
   "id": "ef5d46e8-77fb-4b67-bed1-cd19968233f1",
   "metadata": {
    "vscode": {
     "languageId": "python"
    }
   },
   "outputs": [],
   "source": [
    "''' SVD - Forge / ReForge only '''\n",
    "%cd -q $forge_svd\n",
    "%download https://huggingface.co/stabilityai/stable-video-diffusion-img2vid/resolve/main/svd.safetensors svd.safetensors\n",
    "%download https://huggingface.co/stabilityai/stable-video-diffusion-img2vid/resolve/main/svd_image_decoder.safetensors svd_image_decoder.safetensors"
   ]
  },
  {
   "cell_type": "markdown",
   "id": "a9265b65",
   "metadata": {},
   "source": [
    "## 🦢 Web UI\n",
    "<span style=\"font-size:18px;\">• Agrega <span style=\"color:red;\">--skip-widget</span> para pre-cargar todo inmediatamente.</span><br>\n",
    "<span style=\"font-size:18px;\">• Para ComfyUI, agrega <span style=\"color:red\">--skip-comfyui-check</span> para saltar dependencias</span><br>\n",
    "\n",
    "<span style=\"font-size:13px;\">\n",
    "  <span style=\"color:#ab23ff\">%</span>run sksd.<span style=\"color:#42a5f5\">py</span>\n",
    "  <span style=\"color:#ab23ff\">--</span>skip<span style=\"color:#ab23ff\">-</span>widget \n",
    "  <span style=\"color:#ab23ff\">--</span>skip<span style=\"color:#ab23ff\">-</span>comfyui-check\n",
    "</span>"
   ]
  },
  {
   "cell_type": "code",
   "execution_count": null,
   "id": "ee62d9df-7cde-48bd-9b8b-cf01a2ae3a1c",
   "metadata": {
    "vscode": {
     "languageId": "python"
    }
   },
   "outputs": [],
   "source": [
    "%cd -q $webui\n",
    "\n",
    "%run sksd.py"
   ]
  },
  {
   "cell_type": "markdown",
   "id": "06128515",
   "metadata": {},
   "source": [
    "## 💎 Extras\n",
    "> ZROK / Civitai / Imágenes / Resetear entorno"
   ]
  },
  {
   "cell_type": "code",
   "execution_count": null,
   "id": "bdf1c5e2-14ae-418b-aa87-3dfcf07e9135",
   "metadata": {
    "tags": [],
    "vscode": {
     "languageId": "python"
    }
   },
   "outputs": [],
   "source": [
    "''' REGISTRAR CUENTA ZROK '''\n",
    "%zrok_register"
   ]
  },
  {
   "cell_type": "code",
   "execution_count": null,
   "id": "7ca34e73-7d82-4eb7-9275-13ac2fe1ee75",
   "metadata": {
    "vscode": {
     "languageId": "python"
    }
   },
   "outputs": [],
   "source": [
    "''' CAMBIAR API KEY DE CIVITAI '''\n",
    "%change_key"
   ]
  },
  {
   "cell_type": "markdown",
   "id": "693c6b63",
   "metadata": {},
   "source": [
    "#### Almacenamiento"
   ]
  },
  {
   "cell_type": "code",
   "execution_count": null,
   "id": "9e058676-e9cc-4a39-aeae-c86852d44f5e",
   "metadata": {
    "tags": [],
    "vscode": {
     "languageId": "python"
    }
   },
   "outputs": [],
   "source": [
    "''' BORRAR TODO, REINICIAR ENTORNO LUEGO '''\n",
    "%delete_everything"
   ]
  },
  {
   "cell_type": "markdown",
   "id": "9083412a",
   "metadata": {},
   "source": [
    "#### Crear ```ZIP``` de imágenes"
   ]
  },
  {
   "cell_type": "code",
   "execution_count": null,
   "id": "e264e27c-0b24-463a-8ac7-88571517d370",
   "metadata": {
    "tags": [],
    "vscode": {
     "languageId": "python"
    }
   },
   "outputs": [],
   "source": [
    "%%zipping\n",
    "\n",
    "name    = 'nombre_del_zip'\n",
    "inputs  = $webui_output\n",
    "outputs = $home"
   ]
  }
 ],
 "metadata": {
  "kernelspec": {
   "display_name": "",
   "name": ""
  },
  "language_info": {
   "name": ""
  }
 },
 "nbformat": 4,
 "nbformat_minor": 5
}
